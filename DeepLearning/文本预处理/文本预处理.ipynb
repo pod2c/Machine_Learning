{
 "cells": [
  {
   "cell_type": "code",
   "execution_count": 1,
   "id": "75971f1d",
   "metadata": {},
   "outputs": [],
   "source": [
    "from d2l import torch as d2l\n",
    "import collections\n",
    "import re"
   ]
  },
  {
   "cell_type": "markdown",
   "id": "ee3e072f",
   "metadata": {},
   "source": [
    "导入一本书的数据集并且转化为一系列的文本"
   ]
  },
  {
   "cell_type": "code",
   "execution_count": 2,
   "id": "d2026236",
   "metadata": {},
   "outputs": [
    {
     "name": "stdout",
     "output_type": "stream",
     "text": [
      "the time machine by h g wells\n",
      "twinkled and his usually pale face was flushed and animated the\n"
     ]
    }
   ],
   "source": [
    "d2l.DATA_HUB['time_machine'] = (d2l.DATA_URL + 'timemachine.txt','090b5e7e70c295757f55df93cb0a180b9691891a')\n",
    "\n",
    "def read_book():\n",
    "    with open(d2l.download('time_machine'), 'r') as f:\n",
    "        lines = f.readlines()\n",
    "    return [re.sub('[^A-Za-z]+', ' ', line).strip().lower() for line in lines]\n",
    "\n",
    "lines = read_book()\n",
    "print(lines[0])\n",
    "print(lines[10])"
   ]
  },
  {
   "cell_type": "markdown",
   "id": "98137cd1",
   "metadata": {},
   "source": [
    "词元化：tokenize函数将文本行列表（lines）作为输入，此列表中的元素为一个个文本序列，tokenize函数将每个文本序列拆开成为一个个词元（token）,词元是文本的基本单位，最后函数会返回一个由词元构成的列表（list）。"
   ]
  },
  {
   "cell_type": "code",
   "execution_count": 3,
   "id": "5ab85a7a",
   "metadata": {},
   "outputs": [
    {
     "name": "stdout",
     "output_type": "stream",
     "text": [
      "['the', 'time', 'machine', 'by', 'h', 'g', 'wells']\n",
      "[]\n",
      "[]\n",
      "[]\n",
      "[]\n",
      "['i']\n",
      "[]\n",
      "[]\n",
      "['the', 'time', 'traveller', 'for', 'so', 'it', 'will', 'be', 'convenient', 'to', 'speak', 'of', 'him']\n",
      "['was', 'expounding', 'a', 'recondite', 'matter', 'to', 'us', 'his', 'grey', 'eyes', 'shone', 'and']\n",
      "['twinkled', 'and', 'his', 'usually', 'pale', 'face', 'was', 'flushed', 'and', 'animated', 'the']\n",
      "['fire', 'burned', 'brightly', 'and', 'the', 'soft', 'radiance', 'of', 'the', 'incandescent']\n",
      "['lights', 'in', 'the', 'lilies', 'of', 'silver', 'caught', 'the', 'bubbles', 'that', 'flashed', 'and']\n",
      "['passed', 'in', 'our', 'glasses', 'our', 'chairs', 'being', 'his', 'patents', 'embraced', 'and']\n",
      "['caressed', 'us', 'rather', 'than', 'submitted', 'to', 'be', 'sat', 'upon', 'and', 'there', 'was', 'that']\n",
      "['luxurious', 'after', 'dinner', 'atmosphere', 'when', 'thought', 'roams', 'gracefully']\n",
      "['free', 'of', 'the', 'trammels', 'of', 'precision', 'and', 'he', 'put', 'it', 'to', 'us', 'in', 'this']\n",
      "['way', 'marking', 'the', 'points', 'with', 'a', 'lean', 'forefinger', 'as', 'we', 'sat', 'and', 'lazily']\n",
      "['admired', 'his', 'earnestness', 'over', 'this', 'new', 'paradox', 'as', 'we', 'thought', 'it']\n",
      "['and', 'his', 'fecundity']\n",
      "[]\n",
      "['you', 'must', 'follow', 'me', 'carefully', 'i', 'shall', 'have', 'to', 'controvert', 'one', 'or', 'two']\n"
     ]
    }
   ],
   "source": [
    "def tokenize(lines, token='word'):\n",
    "    if (token == 'word'):\n",
    "        return [line.split() for line in lines]\n",
    "    elif (token == 'char'):\n",
    "        return [list(line) for line in lines]\n",
    "    else:\n",
    "        print ('Error Token Type:' + token)\n",
    "\n",
    "tokens = tokenize(lines)\n",
    "for i in range(22):\n",
    "    print(tokens[i])"
   ]
  },
  {
   "cell_type": "markdown",
   "id": "f501572a",
   "metadata": {},
   "source": [
    "构建词汇表类：词元的类型为字符串，而模型需要的输入为数字，因此单纯的词元并不适合输入模型进行训练，需要将词元映射到从0开始的数字索引当中。首先需要先将所有文本合并到一起，接着对每个唯一的词元的出现频率进行统计，统计结果被称为语料库（corpus），然后为每个唯一词元的出现频率分配一个数字索引。很少出现的词元将被删除以降低复杂性。并且对于不存在语料库中的词元或者已经删除的词元都将被映射到一个未知词元<unk>中。通常地，可以人为地增加一个列表，用于保存那些被保留的词元，例如序列开始次元<bos>表示一个句子的开始,序列结束词元<eos>表示一个句子的结束。"
   ]
  },
  {
   "cell_type": "code",
   "execution_count": 18,
   "id": "ab738886",
   "metadata": {},
   "outputs": [],
   "source": [
    "class Vocab:\n",
    "    def __init__(self, tokens=None, mini_freq=0, reserved_token=None):\n",
    "        \"\"\"文本词汇表\"\"\"\n",
    "        if(tokens is None):\n",
    "            tokens = [ ]\n",
    "        if(reserved_token is None):\n",
    "            reserved_token = [ ]\n",
    "        counter = corpus_counter(tokens) #计算词元频率构造语料库\n",
    "        self.token_freq = sorted(counter.items(), key=lambda x:x[1], reverse=True) #将词元频率按照出现频率从高到低排列\n",
    "        \n",
    "        self.unk, uniq_tokens = 0, ['<unk>'] + reserved_token #构造一个能够存放词元的字典\n",
    "        #对于语料库中出现频率满足设定的最小频率的词元以及不在字典中的词元，逐个将这些满足条件的词元放入字典中。\n",
    "        uniq_tokens += [token for token, freq in self.token_freq if freq >= mini_freq and token not in uniq_tokens] \n",
    "        self.token_to_idx = dict() #给定词元返回数字索引\n",
    "        self.idx_to_token = [ ] #给定数字索引返回词元\n",
    "        #将数字索引和字典中的词元一一对应\n",
    "        for token in uniq_tokens:\n",
    "            self.idx_to_token.append(token)\n",
    "            self.token_to_idx[token] = len(self.idx_to_token) - 1\n",
    "        \n",
    "    def __len__(self):\n",
    "        \"\"\"返回储存词元字典的长度\"\"\"\n",
    "        return len(self.idx_to_token) \n",
    "        \n",
    "    def __getitem__(self, tokens):\n",
    "        \"\"\"输入一个词元，返回一个数字索引\"\"\"\n",
    "        if not isinstance(tokens, (list, tuple)):\n",
    "            return self.token_to_idx.get(tokens, self.unk)\n",
    "        return [self.__getitem__(token) for token in tokens]\n",
    "        \n",
    "    def to_token(self, indices):\n",
    "        \"\"\"输入一个数字索引，返回一个词元\"\"\"\n",
    "        if not isinstance(indices, (list, tuple)):\n",
    "            return self.idx_to_token.get[indices]\n",
    "        return [self.to_token[idx] for idx in indices]\n",
    "               \n",
    "def corpus_counter(tokens):\n",
    "    \"\"\"统计词频\"\"\"\n",
    "    if (len(tokens)==0 or isinstance(tokens[0], list)): \n",
    "        \"\"\"将词元映射到数字索引中以统计词元的出现频率\"\"\"\n",
    "        tokens = [token for line in tokens for token in line]\n",
    "    return collections.Counter(tokens)"
   ]
  },
  {
   "cell_type": "code",
   "execution_count": 14,
   "id": "d71fa711",
   "metadata": {},
   "outputs": [
    {
     "name": "stdout",
     "output_type": "stream",
     "text": [
      "[('<unk>', 0), ('the', 1), ('i', 2), ('and', 3), ('of', 4), ('a', 5), ('to', 6), ('was', 7), ('in', 8), ('that', 9)]\n"
     ]
    }
   ],
   "source": [
    "vocab = Vocab(tokens)\n",
    "print(list(vocab.token_to_idx.items())[:10])"
   ]
  },
  {
   "cell_type": "code",
   "execution_count": 16,
   "id": "0fa274dc",
   "metadata": {},
   "outputs": [
    {
     "data": {
      "text/plain": [
       "<__main__.Vocab at 0x17b93959b50>"
      ]
     },
     "execution_count": 16,
     "metadata": {},
     "output_type": "execute_result"
    }
   ],
   "source": [
    "vocab"
   ]
  },
  {
   "cell_type": "markdown",
   "id": "31356f99",
   "metadata": {},
   "source": [
    "将文本行转为数字索引列表"
   ]
  },
  {
   "cell_type": "code",
   "execution_count": 15,
   "id": "ad02d78c",
   "metadata": {},
   "outputs": [
    {
     "name": "stdout",
     "output_type": "stream",
     "text": [
      "word: ['the', 'time', 'machine', 'by', 'h', 'g', 'wells']\n",
      "index: [1, 19, 50, 40, 2183, 2184, 400]\n",
      "word: ['twinkled', 'and', 'his', 'usually', 'pale', 'face', 'was', 'flushed', 'and', 'animated', 'the']\n",
      "index: [2186, 3, 25, 1044, 362, 113, 7, 1421, 3, 1045, 1]\n"
     ]
    }
   ],
   "source": [
    "for i in [0, 10]:\n",
    "    print('word:',tokens[i])\n",
    "    print('index:',vocab[tokens[i]])"
   ]
  },
  {
   "cell_type": "code",
   "execution_count": 20,
   "id": "5d8f1f8b",
   "metadata": {},
   "outputs": [
    {
     "data": {
      "text/plain": [
       "(28, 170580)"
      ]
     },
     "execution_count": 20,
     "metadata": {},
     "output_type": "execute_result"
    }
   ],
   "source": [
    "def load_corpus_time_machine(max_token=-1):\n",
    "    lines = read_book()\n",
    "    tokens = tokenize(lines, 'char')\n",
    "    vocabu = Vocab(tokens)\n",
    "    corpus = [vocabu[token] for line in tokens for token in line]\n",
    "    \n",
    "    if (max_token > 0):\n",
    "        corpus = corpus[:max_token]\n",
    "    return vocabu, corpus\n",
    "\n",
    "vocabu, corpus = load_corpus_time_machine()\n",
    "len(vocabu), len(corpus)"
   ]
  },
  {
   "cell_type": "code",
   "execution_count": null,
   "id": "c896d67f",
   "metadata": {},
   "outputs": [],
   "source": []
  }
 ],
 "metadata": {
  "kernelspec": {
   "display_name": "Python [conda env:torch] *",
   "language": "python",
   "name": "conda-env-torch-py"
  },
  "language_info": {
   "codemirror_mode": {
    "name": "ipython",
    "version": 3
   },
   "file_extension": ".py",
   "mimetype": "text/x-python",
   "name": "python",
   "nbconvert_exporter": "python",
   "pygments_lexer": "ipython3",
   "version": "3.8.16"
  }
 },
 "nbformat": 4,
 "nbformat_minor": 5
}
