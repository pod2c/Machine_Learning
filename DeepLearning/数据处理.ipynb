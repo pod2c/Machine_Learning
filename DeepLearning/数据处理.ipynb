{
 "cells": [
  {
   "cell_type": "code",
   "execution_count": 2,
   "id": "0567362c",
   "metadata": {},
   "outputs": [],
   "source": [
    "import torch"
   ]
  },
  {
   "cell_type": "markdown",
   "id": "012b8394",
   "metadata": {},
   "source": [
    "张量表示一个数值组成的数组，这个数组可能拥有多个维度"
   ]
  },
  {
   "cell_type": "code",
   "execution_count": 3,
   "id": "68788921",
   "metadata": {},
   "outputs": [
    {
     "data": {
      "text/plain": [
       "tensor([0, 1, 2, 3, 4, 5, 6, 7, 8, 9])"
      ]
     },
     "execution_count": 3,
     "metadata": {},
     "output_type": "execute_result"
    }
   ],
   "source": [
    "x=torch.arange(10)\n",
    "x"
   ]
  },
  {
   "cell_type": "markdown",
   "id": "c916d49f",
   "metadata": {},
   "source": [
    " 张量的shape属性能够访问张量的形状和张量内的元素总数"
   ]
  },
  {
   "cell_type": "code",
   "execution_count": 4,
   "id": "1f30a700",
   "metadata": {},
   "outputs": [
    {
     "data": {
      "text/plain": [
       "torch.Size([10])"
      ]
     },
     "execution_count": 4,
     "metadata": {},
     "output_type": "execute_result"
    }
   ],
   "source": [
    "x.shape"
   ]
  },
  {
   "cell_type": "code",
   "execution_count": 5,
   "id": "ee144095",
   "metadata": {},
   "outputs": [
    {
     "data": {
      "text/plain": [
       "10"
      ]
     },
     "execution_count": 5,
     "metadata": {},
     "output_type": "execute_result"
    }
   ],
   "source": [
    "x.numel() ##表示张量内的元素数量，是一个标量"
   ]
  },
  {
   "cell_type": "markdown",
   "id": "4a66e5f8",
   "metadata": {},
   "source": [
    "要改变一个张量的形状而不改变张量内的元素的数量和数值需要调用reshape函数"
   ]
  },
  {
   "cell_type": "code",
   "execution_count": 6,
   "id": "80bdc2b0",
   "metadata": {},
   "outputs": [
    {
     "data": {
      "text/plain": [
       "tensor([[0, 1],\n",
       "        [2, 3],\n",
       "        [4, 5],\n",
       "        [6, 7],\n",
       "        [8, 9]])"
      ]
     },
     "execution_count": 6,
     "metadata": {},
     "output_type": "execute_result"
    }
   ],
   "source": [
    "x.reshape(5,2) ##将张量改为5行2列"
   ]
  },
  {
   "cell_type": "markdown",
   "id": "5eae3ff6",
   "metadata": {},
   "source": [
    "可以生成一些全是1、全是0或是从特定分布中随机采样的张量"
   ]
  },
  {
   "cell_type": "code",
   "execution_count": 7,
   "id": "1dab6a82",
   "metadata": {},
   "outputs": [
    {
     "data": {
      "text/plain": [
       "tensor([[[0., 0., 0., 0., 0.],\n",
       "         [0., 0., 0., 0., 0.],\n",
       "         [0., 0., 0., 0., 0.],\n",
       "         [0., 0., 0., 0., 0.]],\n",
       "\n",
       "        [[0., 0., 0., 0., 0.],\n",
       "         [0., 0., 0., 0., 0.],\n",
       "         [0., 0., 0., 0., 0.],\n",
       "         [0., 0., 0., 0., 0.]],\n",
       "\n",
       "        [[0., 0., 0., 0., 0.],\n",
       "         [0., 0., 0., 0., 0.],\n",
       "         [0., 0., 0., 0., 0.],\n",
       "         [0., 0., 0., 0., 0.]]])"
      ]
     },
     "execution_count": 7,
     "metadata": {},
     "output_type": "execute_result"
    }
   ],
   "source": [
    "torch.zeros((3,4,5))"
   ]
  },
  {
   "cell_type": "code",
   "execution_count": 8,
   "id": "ec04ec80",
   "metadata": {},
   "outputs": [
    {
     "data": {
      "text/plain": [
       "tensor([[[1., 1., 1., 1., 1.],\n",
       "         [1., 1., 1., 1., 1.],\n",
       "         [1., 1., 1., 1., 1.],\n",
       "         [1., 1., 1., 1., 1.]],\n",
       "\n",
       "        [[1., 1., 1., 1., 1.],\n",
       "         [1., 1., 1., 1., 1.],\n",
       "         [1., 1., 1., 1., 1.],\n",
       "         [1., 1., 1., 1., 1.]],\n",
       "\n",
       "        [[1., 1., 1., 1., 1.],\n",
       "         [1., 1., 1., 1., 1.],\n",
       "         [1., 1., 1., 1., 1.],\n",
       "         [1., 1., 1., 1., 1.]]])"
      ]
     },
     "execution_count": 8,
     "metadata": {},
     "output_type": "execute_result"
    }
   ],
   "source": [
    "torch.ones((3,4,5))"
   ]
  },
  {
   "cell_type": "markdown",
   "id": "554cecd1",
   "metadata": {},
   "source": [
    "常见的标准运算都能升级成按元素计算"
   ]
  },
  {
   "cell_type": "code",
   "execution_count": 9,
   "id": "91f8c585",
   "metadata": {},
   "outputs": [
    {
     "data": {
      "text/plain": [
       "(tensor([ 3,  4,  6, 10]),\n",
       " tensor([-1,  0,  2,  6]),\n",
       " tensor([ 2,  4,  8, 16]),\n",
       " tensor([0.5000, 1.0000, 2.0000, 4.0000]),\n",
       " tensor([ 1,  4, 16, 64]))"
      ]
     },
     "execution_count": 9,
     "metadata": {},
     "output_type": "execute_result"
    }
   ],
   "source": [
    "x = torch.tensor([1,2,4,8])\n",
    "y = torch.tensor([2,2,2,2])\n",
    "x+y,x-y,x*y,x/y,x**y"
   ]
  },
  {
   "cell_type": "code",
   "execution_count": 10,
   "id": "830b6367",
   "metadata": {},
   "outputs": [
    {
     "data": {
      "text/plain": [
       "tensor([2.7183e+00, 7.3891e+00, 5.4598e+01, 2.9810e+03])"
      ]
     },
     "execution_count": 10,
     "metadata": {},
     "output_type": "execute_result"
    }
   ],
   "source": [
    "##指数计算\n",
    "torch.exp(x)"
   ]
  },
  {
   "cell_type": "markdown",
   "id": "3b071b5c",
   "metadata": {},
   "source": [
    "连接多个张量"
   ]
  },
  {
   "cell_type": "code",
   "execution_count": 11,
   "id": "9972dcff",
   "metadata": {},
   "outputs": [
    {
     "data": {
      "text/plain": [
       "(tensor([[ 0.,  1.,  2.,  3.],\n",
       "         [ 4.,  5.,  6.,  7.],\n",
       "         [ 8.,  9., 10., 11.],\n",
       "         [ 2.,  1.,  4.,  3.],\n",
       "         [ 1.,  2.,  3.,  4.],\n",
       "         [ 4.,  1.,  2.,  3.]]),\n",
       " tensor([[ 0.,  1.,  2.,  3.,  2.,  1.,  4.,  3.],\n",
       "         [ 4.,  5.,  6.,  7.,  1.,  2.,  3.,  4.],\n",
       "         [ 8.,  9., 10., 11.,  4.,  1.,  2.,  3.]]))"
      ]
     },
     "execution_count": 11,
     "metadata": {},
     "output_type": "execute_result"
    }
   ],
   "source": [
    "X = torch.arange(12, dtype=torch.float32).reshape(3,4)\n",
    "Y = torch.tensor([[2,1,4,3],[1,2,3,4],[4,1,2,3]])\n",
    "torch.cat((X,Y), dim=0), torch.cat((X,Y), dim=1)"
   ]
  },
  {
   "cell_type": "markdown",
   "id": "ac32f85d",
   "metadata": {},
   "source": [
    "使用逻辑运算符构建二元张量"
   ]
  },
  {
   "cell_type": "code",
   "execution_count": 12,
   "id": "5245e6ea",
   "metadata": {},
   "outputs": [
    {
     "data": {
      "text/plain": [
       "tensor([[False,  True, False,  True],\n",
       "        [False, False, False, False],\n",
       "        [False, False, False, False]])"
      ]
     },
     "execution_count": 12,
     "metadata": {},
     "output_type": "execute_result"
    }
   ],
   "source": [
    "X == Y"
   ]
  },
  {
   "cell_type": "markdown",
   "id": "7f6d5356",
   "metadata": {},
   "source": [
    "对一个张量中的所有元素求和会产生只有一个元素的张量"
   ]
  },
  {
   "cell_type": "code",
   "execution_count": 13,
   "id": "1ab11c93",
   "metadata": {},
   "outputs": [
    {
     "data": {
      "text/plain": [
       "tensor(66.)"
      ]
     },
     "execution_count": 13,
     "metadata": {},
     "output_type": "execute_result"
    }
   ],
   "source": [
    "X.sum()"
   ]
  },
  {
   "cell_type": "markdown",
   "id": "418ddf70",
   "metadata": {},
   "source": [
    "面对不同形状的张量运算，可使用广播机制来执行按位操作，结果张量的shape为每个张量的shape对应位置取最大值。"
   ]
  },
  {
   "cell_type": "code",
   "execution_count": 14,
   "id": "844d747c",
   "metadata": {},
   "outputs": [
    {
     "data": {
      "text/plain": [
       "(tensor([[0],\n",
       "         [1],\n",
       "         [2]]),\n",
       " tensor([[0, 1]]))"
      ]
     },
     "execution_count": 14,
     "metadata": {},
     "output_type": "execute_result"
    }
   ],
   "source": [
    "a = torch.arange(3).reshape(3,1)\n",
    "b = torch.arange(2).reshape(1,2)\n",
    "a,b"
   ]
  },
  {
   "cell_type": "code",
   "execution_count": 18,
   "id": "541c1321",
   "metadata": {},
   "outputs": [
    {
     "data": {
      "text/plain": [
       "tensor([[0, 1],\n",
       "        [1, 2],\n",
       "        [2, 3]])"
      ]
     },
     "execution_count": 18,
     "metadata": {},
     "output_type": "execute_result"
    }
   ],
   "source": [
    "c = a + b\n",
    "c"
   ]
  },
  {
   "cell_type": "code",
   "execution_count": 17,
   "id": "9f8af5c9",
   "metadata": {},
   "outputs": [
    {
     "data": {
      "text/plain": [
       "torch.Size([3, 2])"
      ]
     },
     "execution_count": 17,
     "metadata": {},
     "output_type": "execute_result"
    }
   ],
   "source": [
    "c.shape"
   ]
  },
  {
   "cell_type": "markdown",
   "id": "3cf73063",
   "metadata": {},
   "source": [
    "元素的访问：用[-1]访问最后一个元素，用[1:3]访问第一个和第二个元素"
   ]
  },
  {
   "cell_type": "code",
   "execution_count": 19,
   "id": "059fb8ca",
   "metadata": {},
   "outputs": [
    {
     "data": {
      "text/plain": [
       "(tensor([ 8.,  9., 10., 11.]),\n",
       " tensor([[ 4.,  5.,  6.,  7.],\n",
       "         [ 8.,  9., 10., 11.]]))"
      ]
     },
     "execution_count": 19,
     "metadata": {},
     "output_type": "execute_result"
    }
   ],
   "source": [
    "X[-1],X[1:3]"
   ]
  },
  {
   "cell_type": "markdown",
   "id": "fe4bde30",
   "metadata": {},
   "source": [
    "通过索引改变张量内的元素数值"
   ]
  },
  {
   "cell_type": "code",
   "execution_count": 22,
   "id": "6fb5820b",
   "metadata": {},
   "outputs": [
    {
     "data": {
      "text/plain": [
       "tensor([[ 0.,  1.,  2.,  3.],\n",
       "        [ 4.,  5.,  7.,  7.],\n",
       "        [ 8.,  9., 10., 11.]])"
      ]
     },
     "execution_count": 22,
     "metadata": {},
     "output_type": "execute_result"
    }
   ],
   "source": [
    "X[1,2]=7\n",
    "X"
   ]
  },
  {
   "cell_type": "markdown",
   "id": "4a2684db",
   "metadata": {},
   "source": [
    "为多个元素赋值，只需要索引所有元素，然后赋值"
   ]
  },
  {
   "cell_type": "code",
   "execution_count": 23,
   "id": "e565db0e",
   "metadata": {},
   "outputs": [
    {
     "data": {
      "text/plain": [
       "tensor([[12., 12., 12., 12.],\n",
       "        [12., 12., 12., 12.],\n",
       "        [ 8.,  9., 10., 11.]])"
      ]
     },
     "execution_count": 23,
     "metadata": {},
     "output_type": "execute_result"
    }
   ],
   "source": [
    "X[0:2,:]=12\n",
    "X"
   ]
  },
  {
   "cell_type": "markdown",
   "id": "64bc3066",
   "metadata": {},
   "source": [
    "pytorch张量转为NumPy张量"
   ]
  },
  {
   "cell_type": "code",
   "execution_count": 26,
   "id": "80c6af70",
   "metadata": {},
   "outputs": [
    {
     "data": {
      "text/plain": [
       "(numpy.ndarray, torch.Tensor)"
      ]
     },
     "execution_count": 26,
     "metadata": {},
     "output_type": "execute_result"
    }
   ],
   "source": [
    "A=X.numpy()\n",
    "B=torch.tensor(A)\n",
    "A,B\n",
    "type(A),type(B)"
   ]
  },
  {
   "cell_type": "markdown",
   "id": "73f9fb59",
   "metadata": {},
   "source": [
    "将张量转为python标量"
   ]
  },
  {
   "cell_type": "code",
   "execution_count": 28,
   "id": "06c2c8eb",
   "metadata": {},
   "outputs": [
    {
     "data": {
      "text/plain": [
       "(tensor(3.5000), 3.5, 3.5, 3)"
      ]
     },
     "execution_count": 28,
     "metadata": {},
     "output_type": "execute_result"
    }
   ],
   "source": [
    "C = torch.tensor(3.5)\n",
    "C,C.item(),float(C),int(C)"
   ]
  },
  {
   "cell_type": "markdown",
   "id": "3ab68bfc",
   "metadata": {},
   "source": [
    "创建一个csv数据集"
   ]
  },
  {
   "cell_type": "code",
   "execution_count": 34,
   "id": "99a3d717",
   "metadata": {},
   "outputs": [],
   "source": [
    "import os\n",
    "\n",
    "os.makedirs(os.path.join('..','data'),exist_ok=True)\n",
    "data_file = os.path.join('..','data','house.csv')\n",
    "\n",
    "with open(data_file,'w') as f:\n",
    "    f.write('NumRooms,Name,Prince\\n')\n",
    "    f.write('NA,Alice,256000\\n')\n",
    "    f.write('3,NA,NA\\n')\n",
    "    f.write('5,Dave,362110\\n')\n",
    "    f.write('NA,Alex,NA\\n')"
   ]
  },
  {
   "cell_type": "markdown",
   "id": "e328a568",
   "metadata": {},
   "source": [
    "使用pandas读取数据集"
   ]
  },
  {
   "cell_type": "code",
   "execution_count": 37,
   "id": "f34eb725",
   "metadata": {},
   "outputs": [
    {
     "data": {
      "text/html": [
       "<div>\n",
       "<style scoped>\n",
       "    .dataframe tbody tr th:only-of-type {\n",
       "        vertical-align: middle;\n",
       "    }\n",
       "\n",
       "    .dataframe tbody tr th {\n",
       "        vertical-align: top;\n",
       "    }\n",
       "\n",
       "    .dataframe thead th {\n",
       "        text-align: right;\n",
       "    }\n",
       "</style>\n",
       "<table border=\"1\" class=\"dataframe\">\n",
       "  <thead>\n",
       "    <tr style=\"text-align: right;\">\n",
       "      <th></th>\n",
       "      <th>NumRooms</th>\n",
       "      <th>Name</th>\n",
       "      <th>Prince</th>\n",
       "    </tr>\n",
       "  </thead>\n",
       "  <tbody>\n",
       "    <tr>\n",
       "      <th>0</th>\n",
       "      <td>NaN</td>\n",
       "      <td>Alice</td>\n",
       "      <td>256000.0</td>\n",
       "    </tr>\n",
       "    <tr>\n",
       "      <th>1</th>\n",
       "      <td>3.0</td>\n",
       "      <td>NaN</td>\n",
       "      <td>NaN</td>\n",
       "    </tr>\n",
       "    <tr>\n",
       "      <th>2</th>\n",
       "      <td>5.0</td>\n",
       "      <td>Dave</td>\n",
       "      <td>362110.0</td>\n",
       "    </tr>\n",
       "    <tr>\n",
       "      <th>3</th>\n",
       "      <td>NaN</td>\n",
       "      <td>Alex</td>\n",
       "      <td>NaN</td>\n",
       "    </tr>\n",
       "  </tbody>\n",
       "</table>\n",
       "</div>"
      ],
      "text/plain": [
       "   NumRooms   Name    Prince\n",
       "0       NaN  Alice  256000.0\n",
       "1       3.0    NaN       NaN\n",
       "2       5.0   Dave  362110.0\n",
       "3       NaN   Alex       NaN"
      ]
     },
     "execution_count": 37,
     "metadata": {},
     "output_type": "execute_result"
    }
   ],
   "source": [
    "import pandas as pd\n",
    "\n",
    "data = pd.read_csv(data_file)\n",
    "data"
   ]
  },
  {
   "cell_type": "markdown",
   "id": "67adfc62",
   "metadata": {},
   "source": [
    "通过插值和删除来处理缺失值"
   ]
  },
  {
   "cell_type": "code",
   "execution_count": 39,
   "id": "50c1c64a",
   "metadata": {},
   "outputs": [
    {
     "name": "stderr",
     "output_type": "stream",
     "text": [
      "C:\\Users\\pod2g\\AppData\\Local\\Temp\\ipykernel_7636\\3505320478.py:2: FutureWarning: The default value of numeric_only in DataFrame.mean is deprecated. In a future version, it will default to False. In addition, specifying 'numeric_only=None' is deprecated. Select only valid columns or specify the value of numeric_only to silence this warning.\n",
      "  inputs = inputs.fillna(inputs.mean())\n"
     ]
    },
    {
     "data": {
      "text/html": [
       "<div>\n",
       "<style scoped>\n",
       "    .dataframe tbody tr th:only-of-type {\n",
       "        vertical-align: middle;\n",
       "    }\n",
       "\n",
       "    .dataframe tbody tr th {\n",
       "        vertical-align: top;\n",
       "    }\n",
       "\n",
       "    .dataframe thead th {\n",
       "        text-align: right;\n",
       "    }\n",
       "</style>\n",
       "<table border=\"1\" class=\"dataframe\">\n",
       "  <thead>\n",
       "    <tr style=\"text-align: right;\">\n",
       "      <th></th>\n",
       "      <th>NumRooms</th>\n",
       "      <th>Name</th>\n",
       "    </tr>\n",
       "  </thead>\n",
       "  <tbody>\n",
       "    <tr>\n",
       "      <th>0</th>\n",
       "      <td>4.0</td>\n",
       "      <td>Alice</td>\n",
       "    </tr>\n",
       "    <tr>\n",
       "      <th>1</th>\n",
       "      <td>3.0</td>\n",
       "      <td>NaN</td>\n",
       "    </tr>\n",
       "    <tr>\n",
       "      <th>2</th>\n",
       "      <td>5.0</td>\n",
       "      <td>Dave</td>\n",
       "    </tr>\n",
       "    <tr>\n",
       "      <th>3</th>\n",
       "      <td>4.0</td>\n",
       "      <td>Alex</td>\n",
       "    </tr>\n",
       "  </tbody>\n",
       "</table>\n",
       "</div>"
      ],
      "text/plain": [
       "   NumRooms   Name\n",
       "0       4.0  Alice\n",
       "1       3.0    NaN\n",
       "2       5.0   Dave\n",
       "3       4.0   Alex"
      ]
     },
     "execution_count": 39,
     "metadata": {},
     "output_type": "execute_result"
    }
   ],
   "source": [
    "inputs, outputs = data.iloc[:,0:2], data.iloc[:,2]\n",
    "inputs = inputs.fillna(inputs.mean())\n",
    "inputs"
   ]
  },
  {
   "cell_type": "markdown",
   "id": "2a51984c",
   "metadata": {},
   "source": [
    "对于数据集中的离散值或是类别值，可以将Na视为一个类别"
   ]
  },
  {
   "cell_type": "code",
   "execution_count": 40,
   "id": "40ea93c9",
   "metadata": {},
   "outputs": [
    {
     "data": {
      "text/html": [
       "<div>\n",
       "<style scoped>\n",
       "    .dataframe tbody tr th:only-of-type {\n",
       "        vertical-align: middle;\n",
       "    }\n",
       "\n",
       "    .dataframe tbody tr th {\n",
       "        vertical-align: top;\n",
       "    }\n",
       "\n",
       "    .dataframe thead th {\n",
       "        text-align: right;\n",
       "    }\n",
       "</style>\n",
       "<table border=\"1\" class=\"dataframe\">\n",
       "  <thead>\n",
       "    <tr style=\"text-align: right;\">\n",
       "      <th></th>\n",
       "      <th>NumRooms</th>\n",
       "      <th>Name_Alex</th>\n",
       "      <th>Name_Alice</th>\n",
       "      <th>Name_Dave</th>\n",
       "      <th>Name_nan</th>\n",
       "    </tr>\n",
       "  </thead>\n",
       "  <tbody>\n",
       "    <tr>\n",
       "      <th>0</th>\n",
       "      <td>4.0</td>\n",
       "      <td>0</td>\n",
       "      <td>1</td>\n",
       "      <td>0</td>\n",
       "      <td>0</td>\n",
       "    </tr>\n",
       "    <tr>\n",
       "      <th>1</th>\n",
       "      <td>3.0</td>\n",
       "      <td>0</td>\n",
       "      <td>0</td>\n",
       "      <td>0</td>\n",
       "      <td>1</td>\n",
       "    </tr>\n",
       "    <tr>\n",
       "      <th>2</th>\n",
       "      <td>5.0</td>\n",
       "      <td>0</td>\n",
       "      <td>0</td>\n",
       "      <td>1</td>\n",
       "      <td>0</td>\n",
       "    </tr>\n",
       "    <tr>\n",
       "      <th>3</th>\n",
       "      <td>4.0</td>\n",
       "      <td>1</td>\n",
       "      <td>0</td>\n",
       "      <td>0</td>\n",
       "      <td>0</td>\n",
       "    </tr>\n",
       "  </tbody>\n",
       "</table>\n",
       "</div>"
      ],
      "text/plain": [
       "   NumRooms  Name_Alex  Name_Alice  Name_Dave  Name_nan\n",
       "0       4.0          0           1          0         0\n",
       "1       3.0          0           0          0         1\n",
       "2       5.0          0           0          1         0\n",
       "3       4.0          1           0          0         0"
      ]
     },
     "execution_count": 40,
     "metadata": {},
     "output_type": "execute_result"
    }
   ],
   "source": [
    "inputs = pd.get_dummies(inputs, dummy_na=True)\n",
    "inputs"
   ]
  },
  {
   "cell_type": "markdown",
   "id": "35b6f411",
   "metadata": {},
   "source": [
    "在将数据集中的数据都转化为数值后，可以将这些数值转化为tensor张量"
   ]
  },
  {
   "cell_type": "code",
   "execution_count": 41,
   "id": "ebda561b",
   "metadata": {},
   "outputs": [
    {
     "data": {
      "text/plain": [
       "(tensor([[4., 0., 1., 0., 0.],\n",
       "         [3., 0., 0., 0., 1.],\n",
       "         [5., 0., 0., 1., 0.],\n",
       "         [4., 1., 0., 0., 0.]], dtype=torch.float64),\n",
       " tensor([256000.,     nan, 362110.,     nan], dtype=torch.float64))"
      ]
     },
     "execution_count": 41,
     "metadata": {},
     "output_type": "execute_result"
    }
   ],
   "source": [
    "X, y = torch.tensor(inputs.values),torch.tensor(outputs.values)\n",
    "X, y"
   ]
  },
  {
   "cell_type": "code",
   "execution_count": null,
   "id": "1861ef0b",
   "metadata": {},
   "outputs": [],
   "source": []
  }
 ],
 "metadata": {
  "kernelspec": {
   "display_name": "Python [conda env:torch] *",
   "language": "python",
   "name": "conda-env-torch-py"
  },
  "language_info": {
   "codemirror_mode": {
    "name": "ipython",
    "version": 3
   },
   "file_extension": ".py",
   "mimetype": "text/x-python",
   "name": "python",
   "nbconvert_exporter": "python",
   "pygments_lexer": "ipython3",
   "version": "3.8.16"
  }
 },
 "nbformat": 4,
 "nbformat_minor": 5
}
