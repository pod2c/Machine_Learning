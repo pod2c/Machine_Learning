{
 "cells": [
  {
   "cell_type": "code",
   "execution_count": 2,
   "id": "232a5455",
   "metadata": {},
   "outputs": [],
   "source": [
    "%matplotlib inline\n",
    "import torch\n",
    "import random"
   ]
  },
  {
   "cell_type": "markdown",
   "id": "81fe2d86",
   "metadata": {},
   "source": [
    "首先构造参数为w和b以及带有一个噪声项$\\epsilon$的人造数据集**y** = **X** **w** + b + $\\epsilon$"
   ]
  },
  {
   "cell_type": "code",
   "execution_count": 7,
   "id": "6fe5f7df",
   "metadata": {},
   "outputs": [],
   "source": [
    "def synthentic_data(w, b, num_samples):\n",
    "    X = torch.normal(0, 1, (num_samples, len(w)))  ##X为均值为0方差为1的随机数，数量和参数w的数量一致\n",
    "    y = torch.matmul(X, w) + b \n",
    "    y += torch.normal(0, 0.01, y.shape)\n",
    "    return X, y.reshape(-1, 1) ##将x和y的形状都变为列向量\n",
    "    \n",
    "w_true = torch.tensor([2, -3.4])\n",
    "b_true = 4.2\n",
    "\n",
    "features, labels = synthentic_data(w_true, b_true, 1000)"
   ]
  },
  {
   "cell_type": "code",
   "execution_count": 9,
   "id": "1e7af7c4",
   "metadata": {},
   "outputs": [
    {
     "name": "stdout",
     "output_type": "stream",
     "text": [
      "features: tensor([-0.8105, -0.3568]) \n",
      "label: tensor([3.8019])\n"
     ]
    }
   ],
   "source": [
    "print('features:', features[0], '\\nlabel:', labels[0])"
   ]
  },
  {
   "cell_type": "markdown",
   "id": "5cb47cac",
   "metadata": {},
   "source": [
    "构造一个函数能够每次随机小批量地从数据集中采样"
   ]
  },
  {
   "cell_type": "code",
   "execution_count": 12,
   "id": "56908aa6",
   "metadata": {},
   "outputs": [
    {
     "name": "stdout",
     "output_type": "stream",
     "text": [
      "tensor([[ 0.4418, -0.2143],\n",
      "        [-1.8064,  0.6571],\n",
      "        [ 0.7412,  0.1856],\n",
      "        [ 0.6559,  0.8517],\n",
      "        [-0.6508, -0.8636],\n",
      "        [-0.2165,  0.0563],\n",
      "        [-0.1913, -0.6041],\n",
      "        [-2.3457,  1.4957],\n",
      "        [-1.1084, -1.6875],\n",
      "        [ 0.9823,  0.6570]]) \n",
      " tensor([[ 5.8165],\n",
      "        [-1.6394],\n",
      "        [ 5.0659],\n",
      "        [ 2.6219],\n",
      "        [ 5.8414],\n",
      "        [ 3.5669],\n",
      "        [ 5.8631],\n",
      "        [-5.5850],\n",
      "        [ 7.7229],\n",
      "        [ 3.9221]])\n"
     ]
    }
   ],
   "source": [
    "def data_batch(batch_size, feature, label):\n",
    "    num_example = len(feature)\n",
    "    induice = list(range(num_example))\n",
    "    random.shuffle(induice)\n",
    "    \n",
    "    for i in range(0, num_example, batch_size):\n",
    "        batch_induice = torch.tensor(induice[i:min(i + batch_size,num_example)])\n",
    "        yield feature[batch_induice], label[batch_induice]\n",
    "        \n",
    "batch_size = 10\n",
    "for X, y in data_batch(batch_size, features, labels):\n",
    "    print (X, '\\n', y)\n",
    "    break"
   ]
  },
  {
   "cell_type": "markdown",
   "id": "7d4bdc1c",
   "metadata": {},
   "source": [
    "初始化模型参数w和b"
   ]
  },
  {
   "cell_type": "code",
   "execution_count": 16,
   "id": "f191d148",
   "metadata": {},
   "outputs": [],
   "source": [
    "w = torch.normal(0, 0.01, size=(2,1), requires_grad=True)\n",
    "b = torch.zeros(1, requires_grad=True)"
   ]
  },
  {
   "cell_type": "markdown",
   "id": "bdeb2478",
   "metadata": {},
   "source": [
    "构造线性模型"
   ]
  },
  {
   "cell_type": "code",
   "execution_count": 17,
   "id": "242d2b86",
   "metadata": {},
   "outputs": [],
   "source": [
    "def linear_reg(X, w, b):\n",
    "    return torch.matmul(X, w) + b"
   ]
  },
  {
   "cell_type": "markdown",
   "id": "ec33debf",
   "metadata": {},
   "source": [
    "定义损失函数"
   ]
  },
  {
   "cell_type": "code",
   "execution_count": 21,
   "id": "afd4dbad",
   "metadata": {},
   "outputs": [],
   "source": [
    "##损失函数为MSE\n",
    "def loss_func(y, y_hat):\n",
    "    return (y_hat - y.reshape(y_hat.shape)) ** 2 / 2"
   ]
  },
  {
   "cell_type": "markdown",
   "id": "d07ee339",
   "metadata": {},
   "source": [
    "定义优化器"
   ]
  },
  {
   "cell_type": "code",
   "execution_count": 19,
   "id": "4fb8dbb2",
   "metadata": {},
   "outputs": [],
   "source": [
    "##优化器为随机梯度下降SGD\n",
    "def SGD(params, learning_rate, batch_size):\n",
    "    with torch.no_grad():\n",
    "        for param in params:\n",
    "            param -= learning_rate * param.grad / batch_size\n",
    "            param.grad.zero_()"
   ]
  },
  {
   "cell_type": "code",
   "execution_count": 22,
   "id": "84c5931e",
   "metadata": {},
   "outputs": [
    {
     "name": "stdout",
     "output_type": "stream",
     "text": [
      "epoch 1, loss 0.055980\n",
      "epoch 2, loss 0.000252\n",
      "epoch 3, loss 0.000050\n",
      "epoch 4, loss 0.000049\n",
      "epoch 5, loss 0.000049\n",
      "epoch 6, loss 0.000049\n",
      "epoch 7, loss 0.000049\n",
      "epoch 8, loss 0.000049\n",
      "epoch 9, loss 0.000049\n",
      "epoch 10, loss 0.000049\n"
     ]
    }
   ],
   "source": [
    "learning_rate = 0.03\n",
    "net = linear_reg\n",
    "loss = loss_func\n",
    "epochs = 10\n",
    "\n",
    "for epoch in range(epochs):\n",
    "    for X,y in data_batch(batch_size, features, labels):\n",
    "        loss = loss_func(net(X, w, b), y)\n",
    "        loss.sum().backward()\n",
    "        SGD([w,b], learning_rate, batch_size)\n",
    "    \n",
    "    with torch.no_grad():\n",
    "        train_loss = loss_func(net(features,w,b), labels)\n",
    "        print (f'epoch { epoch + 1 }, loss {float(train_loss.mean()):f}')"
   ]
  },
  {
   "cell_type": "markdown",
   "id": "b74f8bfc",
   "metadata": {},
   "source": [
    "使用pytorch设定好的内置函数实现"
   ]
  },
  {
   "cell_type": "code",
   "execution_count": 27,
   "id": "e3152bb2",
   "metadata": {},
   "outputs": [],
   "source": [
    "from torch.utils import data\n",
    "import numpy as np"
   ]
  },
  {
   "cell_type": "markdown",
   "id": "1d886f0b",
   "metadata": {},
   "source": [
    "构造自定义数据集"
   ]
  },
  {
   "cell_type": "code",
   "execution_count": 32,
   "id": "02227ccb",
   "metadata": {},
   "outputs": [
    {
     "data": {
      "text/plain": [
       "[tensor([[-1.6186,  1.1914],\n",
       "         [-0.7390,  0.7205],\n",
       "         [ 0.9826,  0.6103],\n",
       "         [ 0.8132, -0.0249],\n",
       "         [-0.4938,  0.8550],\n",
       "         [-0.0217,  0.4927],\n",
       "         [ 0.8233,  0.3651],\n",
       "         [ 0.3465, -0.4650],\n",
       "         [ 0.0432, -0.1148],\n",
       "         [ 0.4177,  0.7377]]),\n",
       " tensor([[-3.0947],\n",
       "         [ 0.2740],\n",
       "         [ 4.0838],\n",
       "         [ 5.9232],\n",
       "         [ 0.3082],\n",
       "         [ 2.4810],\n",
       "         [ 4.6042],\n",
       "         [ 6.4671],\n",
       "         [ 4.6845],\n",
       "         [ 2.5223]])]"
      ]
     },
     "execution_count": 32,
     "metadata": {},
     "output_type": "execute_result"
    }
   ],
   "source": [
    "def Dataset(Data, batch_size, is_train=True):\n",
    "    dataset = data.TensorDataset(*Data)\n",
    "    dataloader = data.DataLoader(dataset, batch_size, shuffle=is_train)\n",
    "    return dataloader\n",
    "\n",
    "batch_size = 10\n",
    "DataSet = Dataset((features, labels), batch_size)\n",
    "\n",
    "next(iter(DataSet))"
   ]
  },
  {
   "cell_type": "markdown",
   "id": "d8c7f994",
   "metadata": {},
   "source": [
    "定义网络"
   ]
  },
  {
   "cell_type": "code",
   "execution_count": 37,
   "id": "414e3749",
   "metadata": {},
   "outputs": [],
   "source": [
    "import torch.nn as nn\n",
    "\n",
    "reg = nn.Sequential(nn.Linear(2,1))"
   ]
  },
  {
   "cell_type": "markdown",
   "id": "047d73cc",
   "metadata": {},
   "source": [
    "初始化权重"
   ]
  },
  {
   "cell_type": "code",
   "execution_count": 35,
   "id": "b33bc9d8",
   "metadata": {},
   "outputs": [
    {
     "data": {
      "text/plain": [
       "tensor([0.])"
      ]
     },
     "execution_count": 35,
     "metadata": {},
     "output_type": "execute_result"
    }
   ],
   "source": [
    "net[0].weight.data.normal_(0, 0.01)\n",
    "net[0].bias.data.fill_(0)"
   ]
  },
  {
   "cell_type": "markdown",
   "id": "ddf346e7",
   "metadata": {},
   "source": [
    "定义损失函数"
   ]
  },
  {
   "cell_type": "code",
   "execution_count": 36,
   "id": "571b96fd",
   "metadata": {},
   "outputs": [],
   "source": [
    "Loss = nn.MSELoss()"
   ]
  },
  {
   "cell_type": "markdown",
   "id": "211aa4e7",
   "metadata": {},
   "source": [
    "构造优化器"
   ]
  },
  {
   "cell_type": "code",
   "execution_count": 38,
   "id": "79c30d42",
   "metadata": {},
   "outputs": [],
   "source": [
    "optimizer = torch.optim.SGD(net.parameters(), lr=0.03)"
   ]
  },
  {
   "cell_type": "code",
   "execution_count": 40,
   "id": "9485620b",
   "metadata": {},
   "outputs": [
    {
     "name": "stdout",
     "output_type": "stream",
     "text": [
      " epoch 1, Loss 0.000420\n",
      " epoch 2, Loss 0.000099\n",
      " epoch 3, Loss 0.000099\n"
     ]
    }
   ],
   "source": [
    "num_epochs = 3\n",
    "\n",
    "for epoch in range(num_epochs):\n",
    "    for X, y in DataSet:\n",
    "        train_loss = Loss(net(X), y)\n",
    "        optimizer.zero_grad()\n",
    "        train_loss.backward()\n",
    "        optimizer.step()\n",
    "    train_loss = Loss(net(features), labels)\n",
    "    print(f' epoch {epoch + 1}, Loss {train_loss:f}')"
   ]
  },
  {
   "cell_type": "code",
   "execution_count": null,
   "id": "5da10112",
   "metadata": {},
   "outputs": [],
   "source": []
  }
 ],
 "metadata": {
  "kernelspec": {
   "display_name": "Python [conda env:torch] *",
   "language": "python",
   "name": "conda-env-torch-py"
  },
  "language_info": {
   "codemirror_mode": {
    "name": "ipython",
    "version": 3
   },
   "file_extension": ".py",
   "mimetype": "text/x-python",
   "name": "python",
   "nbconvert_exporter": "python",
   "pygments_lexer": "ipython3",
   "version": "3.8.16"
  }
 },
 "nbformat": 4,
 "nbformat_minor": 5
}
